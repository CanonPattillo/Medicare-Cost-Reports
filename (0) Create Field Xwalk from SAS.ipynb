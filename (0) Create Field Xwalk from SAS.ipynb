{
 "cells": [
  {
   "cell_type": "markdown",
   "id": "48c4e46a",
   "metadata": {},
   "source": [
    "Source Links\n",
    " - CMS Documentation on Fields: https://www.cms.gov/Research-Statistics-Data-and-Systems/Downloadable-Public-Use-Files/Cost-Reports/Hospital-2010-form\n",
    " - CMS MCR Form Instructions: https://www.costreportdata.com/worksheet_formats.html"
   ]
  },
  {
   "cell_type": "code",
   "execution_count": 1,
   "id": "2b16902e",
   "metadata": {},
   "outputs": [],
   "source": [
    "import pandas as pd\n",
    "pd.set_option('display.max_colwidth', None)"
   ]
  },
  {
   "cell_type": "code",
   "execution_count": 2,
   "id": "7e66bf8b",
   "metadata": {},
   "outputs": [],
   "source": [
    "file = \"/Users/CanonPattillo/OneDrive - Porter/Desktop/Analysis Central/Sales Support and PlanSystem Intelligence/Version Two/Medicare Cost Reports/Cost Report Documentation/Copy of 2552-10 SAS FILE RECORD LAYOUT AND CROSSWALK TO 96 - 2021.xlsx\""
   ]
  },
  {
   "cell_type": "code",
   "execution_count": 3,
   "id": "b7162db9",
   "metadata": {},
   "outputs": [],
   "source": [
    "file = pd.read_excel(file,\n",
    "                    sheet_name = 'RECORD LAYOUT',\n",
    "                    skiprows = 62,\n",
    "                    usecols = ['10 FIELD NAME', 'FIELD DESCRIPTION ',\n",
    "                    'WKSHT CD', 'LINE', 'COLUMN'],\n",
    "                    dtype = 'str'\n",
    "                    )"
   ]
  },
  {
   "cell_type": "code",
   "execution_count": 4,
   "id": "2e1a323d",
   "metadata": {},
   "outputs": [],
   "source": [
    "# file = file[file['10 FIELD NAME'].notna()]\n",
    "file = file.dropna()\n",
    "file = file[file['FIELD DESCRIPTION '] != 'FIELD DESCRIPTION '].reset_index(drop = True)"
   ]
  },
  {
   "cell_type": "markdown",
   "id": "da8552c1",
   "metadata": {},
   "source": [
    "Rename Columns"
   ]
  },
  {
   "cell_type": "code",
   "execution_count": 5,
   "id": "f76f657a",
   "metadata": {},
   "outputs": [],
   "source": [
    "file.columns = ['10 FIELD NAME', 'FIELD DESCRIPTION ', 'WKSHT_CD', 'LINE_NUM', 'CLMN_NUM']"
   ]
  },
  {
   "cell_type": "markdown",
   "id": "a7946d33",
   "metadata": {},
   "source": [
    "Remove a Duplicate"
   ]
  },
  {
   "cell_type": "code",
   "execution_count": 6,
   "id": "c8a7ef76",
   "metadata": {},
   "outputs": [],
   "source": [
    "file = file[~(file['FIELD DESCRIPTION '] == 'Does the facility qualify and is it receiving payments for \\ndisproportionate share? (Y/N)')]"
   ]
  },
  {
   "cell_type": "markdown",
   "id": "67b59e62",
   "metadata": {},
   "source": [
    "Export"
   ]
  },
  {
   "cell_type": "code",
   "execution_count": 7,
   "id": "02489c48",
   "metadata": {},
   "outputs": [],
   "source": [
    "file.to_csv('/Users/CanonPattillo/OneDrive - Porter/Desktop/Analysis Central/Sales Support and PlanSystem Intelligence/Version Two/Medicare Cost Reports/Outputs/FIELD_HEADERS.csv',\n",
    "           index = False)"
   ]
  }
 ],
 "metadata": {
  "kernelspec": {
   "display_name": "Python 3 (ipykernel)",
   "language": "python",
   "name": "python3"
  },
  "language_info": {
   "codemirror_mode": {
    "name": "ipython",
    "version": 3
   },
   "file_extension": ".py",
   "mimetype": "text/x-python",
   "name": "python",
   "nbconvert_exporter": "python",
   "pygments_lexer": "ipython3",
   "version": "3.8.12"
  }
 },
 "nbformat": 4,
 "nbformat_minor": 5
}
