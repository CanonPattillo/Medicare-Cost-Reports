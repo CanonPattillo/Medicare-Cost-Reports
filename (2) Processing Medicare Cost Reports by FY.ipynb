{
 "cells": [
  {
   "cell_type": "markdown",
   "id": "46e0bd28",
   "metadata": {},
   "source": [
    "Helpful Links\n",
    " - Reshaping Long Data: https://towardsdatascience.com/3-easy-ways-to-reshape-pandas-dataframe-5b2cbe73d60e\n",
    " - Detailed Info on MCR Sheets: https://www.costreportdata.com/worksheet_formats.html"
   ]
  },
  {
   "cell_type": "markdown",
   "id": "6f98684c",
   "metadata": {},
   "source": [
    "Import Standard Modules and Functions"
   ]
  },
  {
   "cell_type": "code",
   "execution_count": null,
   "id": "ecf51a5b",
   "metadata": {},
   "outputs": [],
   "source": [
    "import os\n",
    "from pathlib import Path\n",
    "from matplotlib.ticker import PercentFormatter\n",
    "import openpyxl\n",
    "from datetime import date\n",
    "\n",
    "# Download ZIP Files\n",
    "import requests, zipfile\n",
    "from io import BytesIO\n",
    "\n",
    "path = os.getcwd()\n",
    "os.chdir('/Users/CanonPattillo/OneDrive - Porter/Desktop/Stats and DS/Canon Functions')\n",
    "\n",
    "from canon_functions import *\n",
    "import canon_functions as cf\n",
    "\n",
    "os.chdir(path)\n",
    "print(path)\n",
    "\n",
    "pd.set_option('display.max_columns', None)"
   ]
  },
  {
   "cell_type": "markdown",
   "id": "b3c35d71",
   "metadata": {},
   "source": [
    "Import Medicare Cost Report Preprocessed Data"
   ]
  },
  {
   "cell_type": "code",
   "execution_count": null,
   "id": "4e88fec9",
   "metadata": {},
   "outputs": [],
   "source": [
    "FYyear = input(\"Which Fiscal Year (YYYY) would you like to process? >>>  \")"
   ]
  },
  {
   "cell_type": "code",
   "execution_count": null,
   "id": "03ff5373",
   "metadata": {},
   "outputs": [],
   "source": [
    "df = pd.read_csv(f'/Users/CanonPattillo/OneDrive - Porter/Desktop/Analysis Central/Sales Support and PlanSystem Intelligence/Version Two/Medicare Cost Reports/Outputs/Unprocessed_{FYyear}_Medicare_Cost_Report.csv'\n",
    "                , dtype='str')"
   ]
  },
  {
   "cell_type": "markdown",
   "id": "533df24d",
   "metadata": {},
   "source": [
    "<font color = 'green'> Isolate those facilities with > 1x MCR for the FY"
   ]
  },
  {
   "cell_type": "code",
   "execution_count": null,
   "id": "90015ba5",
   "metadata": {},
   "outputs": [],
   "source": [
    "# ***** These are the specific facilities with > 1 MCR for the FY\n",
    "moreThanOneReport = df.groupby(['Provider Number'], as_index=False)['Report Record Number'].nunique()\\\n",
    ".sort_values('Report Record Number', ascending = False)\n",
    "\n",
    "moreThanOneReport = moreThanOneReport[moreThanOneReport['Report Record Number'] >1]\n",
    "\n",
    "greThanOne = moreThanOneReport['Provider Number'].unique().tolist()"
   ]
  },
  {
   "cell_type": "markdown",
   "id": "a2c79b9c",
   "metadata": {},
   "source": [
    "Column Headers"
   ]
  },
  {
   "cell_type": "code",
   "execution_count": null,
   "id": "2b19e24e",
   "metadata": {},
   "outputs": [],
   "source": [
    "# for col in df.columns.tolist():\n",
    "#     print(f\"'{col}' : '{col}',\")\n",
    "    \n",
    "df = df.rename(columns = {'Report Record Number' : 'Report Record Number',\n",
    "'Worksheet Identifier' : 'Worksheet Identifier',\n",
    "'Line Number' : 'Line Number',\n",
    "'Column Number' : 'Column Number',\n",
    "'Item Value Number' : 'Value',\n",
    "'10 FIELD NAME' : '10 Field Name',\n",
    "'FIELD DESCRIPTION ' : 'Field Description',\n",
    "'Provider Control Type Code' : 'Provider Control Type Code',\n",
    "'Provider Number' : 'Provider Number',\n",
    "'National Provider Identifier' : 'National Provider Identifier',\n",
    "'Report Status Code' : 'Report Status Code',\n",
    "'Fiscal Year Begin Date' : 'Fiscal Year Begin Date',\n",
    "'Fiscal Year End Date' : 'Fiscal Year End Date',\n",
    "'Process Date' : 'Process Date',\n",
    "'Initial Report Switch' : 'Initial Report Switch',\n",
    "'Last Report Switch' : 'Last Report Switch',\n",
    "'The current transmittal or version number in effect for each sub-system.' : 'The current transmittal or version number in effect for each sub-system.',\n",
    "'Fiscal Intermediary Number' : 'Fiscal Intermediary Number',\n",
    "'Automated Desk Review Vendor Code' : 'Automated Desk Review Vendor Code',\n",
    "'Fiscal Intermediary Create Date' : 'Fiscal Intermediary Create Date',\n",
    "'Utilization Code' : 'Utilization Code',\n",
    "'Notice of Program Reimbursement Date' : 'Notice of Program Reimbursement Date',\n",
    "'Special Indicator' : 'Special Indicator',\n",
    "'Fiscal Intermediary Receipt Date' : 'Fiscal Intermediary Receipt Date'})"
   ]
  },
  {
   "cell_type": "markdown",
   "id": "35fa5750",
   "metadata": {},
   "source": [
    "Create Facility Type Crosswalk from:\n",
    " - HCRIS_FACILITY_NUMBERING.csv <br>\n",
    "\n",
    "Code<br>\n",
    "facilityType = pd.read_csv(f'/Users/CanonPattillo/OneDrive - Porter/Desktop/Analysis Central/Sales Support and PlanSystem Intelligence/Version Two/Medicare Cost Reports/Cost Report Documentation/HCRIS_FACILITY_NUMBERING.csv', dtype='str')"
   ]
  },
  {
   "cell_type": "code",
   "execution_count": null,
   "id": "947ef641",
   "metadata": {},
   "outputs": [],
   "source": [
    "uniqueCCNs = df['Provider Number'].unique().tolist()\n",
    "\n",
    "fType = pd.DataFrame(uniqueCCNs, columns =['Provider Number'])\n",
    "\n",
    "fType['L4'] = fType['Provider Number'].str[-4:]"
   ]
  },
  {
   "cell_type": "code",
   "execution_count": null,
   "id": "d9f7c60f",
   "metadata": {},
   "outputs": [],
   "source": [
    "# Logic to Identify Hospital Type\n",
    "\n",
    "fType['Facility Type'] = np.where(fType['L4'] <= '0879', 'Short Term Acute Care', \n",
    "                        np.where((fType['L4'] >= '3300') & (fType['L4'] <= '3399'), 'Childrens', \n",
    "                        np.where((fType['L4'] >= '1300') & (fType['L4'] <= '1399'), 'Critical Access',\n",
    "                        np.where((fType['L4'] >= '2000') & (fType['L4'] <= '2299'), 'Long Term Acute Care',\n",
    "                                 'Other')\n",
    "                                )\n",
    "                                )\n",
    "                        )"
   ]
  },
  {
   "cell_type": "code",
   "execution_count": null,
   "id": "3cf7b797",
   "metadata": {},
   "outputs": [],
   "source": [
    "df = df.merge(fType,\n",
    "             how = 'left',\n",
    "             left_on = 'Provider Number',\n",
    "             right_on = 'Provider Number')"
   ]
  },
  {
   "cell_type": "markdown",
   "id": "d05c61dd",
   "metadata": {},
   "source": [
    "Type of Control"
   ]
  },
  {
   "cell_type": "code",
   "execution_count": null,
   "id": "b7a91516",
   "metadata": {},
   "outputs": [],
   "source": [
    "controlDict = {'1' :  'Voluntary Nonprofit-Church',\n",
    "'2' :  'Voluntary Nonprofit-Other',\n",
    "'3' :  'Proprietary-Individual',\n",
    "'4' :  'Proprietary-Corporation',\n",
    "'5' :  'Proprietary-Partnership',\n",
    "'6' :  'Proprietary-Other',\n",
    "'7' :  'Governmental-Federal',\n",
    "'8' :  'Governmental-City-County',\n",
    "'9' :  'Governmental-County',\n",
    "'10' : 'Governmental-State',\n",
    "'11' : 'Governmental-Hospital District',\n",
    "'12' : 'Governmental-City',\n",
    "'13' : 'Governmental-Other'}"
   ]
  },
  {
   "cell_type": "code",
   "execution_count": null,
   "id": "9c0387da",
   "metadata": {},
   "outputs": [],
   "source": [
    "df['Provider Control Type']= df['Provider Control Type Code'].map(controlDict)"
   ]
  },
  {
   "cell_type": "markdown",
   "id": "e81b60b2",
   "metadata": {},
   "source": [
    "Report Status Code"
   ]
  },
  {
   "cell_type": "code",
   "execution_count": null,
   "id": "4a42de34",
   "metadata": {},
   "outputs": [],
   "source": [
    "reportStatusDict = {'1':'As Submitted',\n",
    "                   '2':'Settled w/o Audit',\n",
    "                   '3':'Settled with Audit',\n",
    "                   '4':'Reopened',\n",
    "                   '5':'Amended'}"
   ]
  },
  {
   "cell_type": "code",
   "execution_count": null,
   "id": "833fc73c",
   "metadata": {},
   "outputs": [],
   "source": [
    "df['Report Status']= df['Report Status Code'].map(reportStatusDict)"
   ]
  },
  {
   "cell_type": "markdown",
   "id": "f033f944",
   "metadata": {},
   "source": [
    "Remove Null Columns"
   ]
  },
  {
   "cell_type": "code",
   "execution_count": null,
   "id": "eb903331",
   "metadata": {},
   "outputs": [],
   "source": [
    "df = df.dropna(axis=1, how='all')"
   ]
  },
  {
   "cell_type": "markdown",
   "id": "8497961f",
   "metadata": {},
   "source": [
    "Columns Order"
   ]
  },
  {
   "cell_type": "code",
   "execution_count": null,
   "id": "702e763f",
   "metadata": {},
   "outputs": [],
   "source": [
    "df = df[['Provider Number', 'Report Record Number', 'Worksheet Identifier', 'Line Number',\n",
    "       'Column Number', '10 Field Name', 'Field Description', 'Value', \n",
    "       'Facility Type', 'Provider Control Type Code', 'Provider Control Type', 'Report Status Code', 'Report Status',\n",
    "       'Fiscal Year Begin Date', 'Fiscal Year End Date', 'Process Date',\n",
    "       'Initial Report Switch', 'Last Report Switch',\n",
    "       'The current transmittal or version number in effect for each sub-system.',\n",
    "       'Fiscal Intermediary Number', 'Automated Desk Review Vendor Code',\n",
    "       'Fiscal Intermediary Create Date', 'Utilization Code',\n",
    "       'Notice of Program Reimbursement Date',\n",
    "       'Fiscal Intermediary Receipt Date']]"
   ]
  },
  {
   "cell_type": "markdown",
   "id": "85ebcfc3",
   "metadata": {},
   "source": [
    "Final Look"
   ]
  },
  {
   "cell_type": "code",
   "execution_count": null,
   "id": "44b10b4b",
   "metadata": {
    "scrolled": false
   },
   "outputs": [],
   "source": [
    "df.sample()"
   ]
  },
  {
   "cell_type": "markdown",
   "id": "ce29ea46",
   "metadata": {},
   "source": [
    "<font color = 'blue'> ### Reduce for Development <font>"
   ]
  },
  {
   "cell_type": "markdown",
   "id": "c8f67089",
   "metadata": {},
   "source": [
    "# *** PATH 1"
   ]
  },
  {
   "cell_type": "code",
   "execution_count": null,
   "id": "80a8a4e1",
   "metadata": {},
   "outputs": [],
   "source": [
    "df=df[df['Provider Number'] == '010001']"
   ]
  },
  {
   "cell_type": "markdown",
   "id": "0a5ace7f",
   "metadata": {},
   "source": [
    "# *** PATH 2"
   ]
  },
  {
   "cell_type": "code",
   "execution_count": null,
   "id": "0ef1d98a",
   "metadata": {},
   "outputs": [],
   "source": [
    "# Reduce to Hopkins for Development\n",
    "hopkins = ['090005',\n",
    "#            '103300',\n",
    "#            '210009',\n",
    "#            '210022',\n",
    "#            '210029',\n",
    "#            '210048'\n",
    "            ]\n",
    "\n",
    "jh = df[df['Provider Number'].isin(hopkins)].copy().reset_index(drop = True)"
   ]
  },
  {
   "cell_type": "markdown",
   "id": "a8103dd4",
   "metadata": {},
   "source": [
    "Duplicates"
   ]
  },
  {
   "cell_type": "code",
   "execution_count": null,
   "id": "71f495ae",
   "metadata": {},
   "outputs": [],
   "source": [
    "# jh[jh.duplicated(subset=['10 FIELD NAME'])]\n",
    "# jh[jh.duplicated(subset=['Provider Number', 'Worksheet Identifier', 'Line Number','Column Number'])]\n",
    "# jh[(jh['Provider Number'] == '090005')&(jh['Worksheet Identifier'] == 'S200001')\n",
    "#    &(jh['Line Number'] == '02200')&(jh['Column Number'] == '00100')]"
   ]
  },
  {
   "cell_type": "markdown",
   "id": "50e56154",
   "metadata": {},
   "source": [
    "<font color = 'blue'> ### Reduce for Development <font>"
   ]
  },
  {
   "cell_type": "code",
   "execution_count": null,
   "id": "5e7fd003",
   "metadata": {
    "scrolled": true
   },
   "outputs": [],
   "source": [
    "jh"
   ]
  }
 ],
 "metadata": {
  "kernelspec": {
   "display_name": "Python 3 (ipykernel)",
   "language": "python",
   "name": "python3"
  },
  "language_info": {
   "codemirror_mode": {
    "name": "ipython",
    "version": 3
   },
   "file_extension": ".py",
   "mimetype": "text/x-python",
   "name": "python",
   "nbconvert_exporter": "python",
   "pygments_lexer": "ipython3",
   "version": "3.8.12"
  }
 },
 "nbformat": 4,
 "nbformat_minor": 5
}
