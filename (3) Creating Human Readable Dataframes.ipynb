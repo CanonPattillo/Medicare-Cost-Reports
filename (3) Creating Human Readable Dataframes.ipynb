{
 "cells": [
  {
   "cell_type": "code",
   "execution_count": null,
   "id": "ecf51a5b",
   "metadata": {},
   "outputs": [],
   "source": [
    "import os\n",
    "from pathlib import Path\n",
    "from matplotlib.ticker import PercentFormatter\n",
    "import openpyxl\n",
    "from datetime import date\n",
    "\n",
    "# Download ZIP Files\n",
    "import requests, zipfile\n",
    "from io import BytesIO\n",
    "\n",
    "path = os.getcwd()\n",
    "os.chdir('/Users/CanonPattillo/OneDrive - Porter/Desktop/Stats and DS/Canon Functions')\n",
    "\n",
    "from canon_functions import *\n",
    "import canon_functions as cf\n",
    "\n",
    "os.chdir(path)\n",
    "print(path)\n",
    "\n",
    "pd.set_option('display.max_columns', None)"
   ]
  },
  {
   "cell_type": "markdown",
   "id": "b3c35d71",
   "metadata": {},
   "source": [
    "Import Medicare Cost Report Preprocessed Data"
   ]
  },
  {
   "cell_type": "code",
   "execution_count": null,
   "id": "4e88fec9",
   "metadata": {},
   "outputs": [],
   "source": [
    "FYyear = input(\"Which Fiscal Year (YYYY) would you like to process? >>>  \")"
   ]
  },
  {
   "cell_type": "code",
   "execution_count": null,
   "id": "c375a9f5",
   "metadata": {},
   "outputs": [],
   "source": [
    "df = pd.read_csv(f'/Users/CanonPattillo/OneDrive - Porter/Desktop/Intelligence Central/Medicare Cost Reports/Outputs/Processed_{FYyear}_Medicare_Cost_Report.csv'\n",
    "                , dtype='str')"
   ]
  },
  {
   "cell_type": "code",
   "execution_count": null,
   "id": "806a37d0",
   "metadata": {},
   "outputs": [],
   "source": [
    "df.head()"
   ]
  },
  {
   "cell_type": "markdown",
   "id": "e6823a0d",
   "metadata": {},
   "source": [
    "# Recreate AHD Files"
   ]
  },
  {
   "cell_type": "markdown",
   "id": "36e5beb3",
   "metadata": {},
   "source": [
    " REQUIRED\n",
    " - CMS Certification Number: Provider Number Col\n",
    " - Facility Name: S2_1_C1_3\n",
    " - System Affiliation: Data gathered by AHD, Home Office Name? S2_1_C1_141\n",
    " - State: S2_1_C2_2\n",
    " - City: S2_1_C1_2\n",
    " - Zip: S2_1_C3_2\n",
    " - Address: S2_1_C1_1\n",
    " - County: S2_1_C4_2\n",
    " - Latitude:\n",
    " - Longitude:\n",
    " - Type of Control: S2_1_C1_21\n",
    " - Type of Facility: Facility Type Col\n",
    " - IPPS Discharges to Home:\n",
    " - Total Discharges:\n",
    " - Total Acute Beds:\n",
    " - Number of Staffed Beds (W/S S-3, Part I, line 7 column 2)\n",
    " - Total Inpatient Discharges (All Payors)  (W/S S-3, part I, line 14, column 15)\n",
    " - Total Patient Days (all payors) (W/S S-3, part I, line 14, column 8). S3_1_C8_14\n",
    " - General Med/Surg Beds (S3_1_C2_7)\n",
    " "
   ]
  },
  {
   "cell_type": "markdown",
   "id": "a2a6b801",
   "metadata": {},
   "source": [
    "Notes on Other Definitions"
   ]
  },
  {
   "cell_type": "markdown",
   "id": "4db33b35",
   "metadata": {},
   "source": [
    "- Beds:\tW/S S-3, part I, line 7 col 2\n",
    "- Revenue:\tW/S C, part I, line 30 col 6\n",
    "- Note:  Revenue for swing beds is included with other services.\n",
    "- Inpatient Days:\tW/S S-3, part I, line 7-9 (payors) col 6-32 (components)\n",
    "- Discharges:\tW/S S-3, part I, col 15\n",
    "- Average Length of Stay:\tCalculated:  Days / Discharges\n",
    "- Average Daily Census:\tCalculated:  Days / 365\n",
    "- Gross Medicare Patient Revenue:\tCalculated; sum of the following:\n",
    "- IP Routine (Part A)\tW/S D-3, col 2, lines 30-42\n",
    "- IP Ancillary (Part A)\tW/S D-3, col 2, line 202\n",
    "- IP (Part B)\t[Not reported since 2004]\n",
    "- OP Ancillary (Part B)\tW/S D, part V, col 2-4, line 202\n",
    "- Gross Medicaid Patient Revenue\tW/S S-10, col 1, line 6\n",
    "- Gross Total Patient Revenue:\tCalculated; sum of the following:\n",
    "- IP Patient Revenue\tW/S G-2, part I, col 1, line 28\n",
    "- OP Patient Revenue\tW/S G-2, part I, col 2, line 28\n",
    "- Gross Other Patient Revenue:\tCalculated: Total - Medicare - Medicaid"
   ]
  },
  {
   "cell_type": "markdown",
   "id": "4d890e35",
   "metadata": {},
   "source": [
    "# QA"
   ]
  },
  {
   "cell_type": "code",
   "execution_count": null,
   "id": "c0828f8f",
   "metadata": {},
   "outputs": [],
   "source": [
    "dft = df.copy()"
   ]
  },
  {
   "cell_type": "code",
   "execution_count": null,
   "id": "8c993ccf",
   "metadata": {},
   "outputs": [],
   "source": [
    "dft[(dft['Provider Number'] == '454148') & (dft['10 Field Name'] == 'S2_1_C1_2')]"
   ]
  },
  {
   "cell_type": "code",
   "execution_count": null,
   "id": "546faa20",
   "metadata": {},
   "outputs": [],
   "source": [
    "dft = dft.sort_values('Process Date').drop_duplicates(subset = ['Provider Number','10 Field Name'], \n",
    "                                                      keep='first')"
   ]
  },
  {
   "cell_type": "markdown",
   "id": "12b2bbf1",
   "metadata": {},
   "source": [
    "Execute Remove Duplicates"
   ]
  },
  {
   "cell_type": "code",
   "execution_count": null,
   "id": "f45a2d9c",
   "metadata": {},
   "outputs": [],
   "source": [
    "df = df.sort_values('Process Date').drop_duplicates(subset = ['Provider Number','10 Field Name'], \n",
    "                                                      keep='first')"
   ]
  },
  {
   "cell_type": "markdown",
   "id": "b9c4e6a5",
   "metadata": {},
   "source": [
    "## Development"
   ]
  },
  {
   "cell_type": "code",
   "execution_count": null,
   "id": "28e8296d",
   "metadata": {},
   "outputs": [],
   "source": [
    "# # Reduce to Hopkins for Development\n",
    "# hopkins = ['090005',\n",
    "#            '103300',\n",
    "#            '210009',\n",
    "#            '210022',\n",
    "#            '210029',\n",
    "#            '210048'\n",
    "#             ]\n",
    "\n",
    "# jh = df[df['Provider Number'].isin(hopkins)].copy().reset_index(drop = True)"
   ]
  },
  {
   "cell_type": "markdown",
   "id": "6a97e60b",
   "metadata": {},
   "source": [
    "Column Variables"
   ]
  },
  {
   "cell_type": "code",
   "execution_count": null,
   "id": "e2e18d97",
   "metadata": {},
   "outputs": [],
   "source": [
    "agg_dict = {'Facility Type':'first',\n",
    "           'Provider Control Type':'first'}\n",
    "cv = df.groupby(['Provider Number'], as_index=False).agg(agg_dict)"
   ]
  },
  {
   "cell_type": "code",
   "execution_count": null,
   "id": "b619e2cd",
   "metadata": {},
   "outputs": [],
   "source": [
    "cv.sample(5)\n",
    "# cv[cv.duplicated()]"
   ]
  },
  {
   "cell_type": "markdown",
   "id": "2c83c508",
   "metadata": {},
   "source": [
    "Row Variables"
   ]
  },
  {
   "cell_type": "code",
   "execution_count": null,
   "id": "41eaab70",
   "metadata": {},
   "outputs": [],
   "source": [
    "var_dict = {'S2_1_C1_3':'Facility Name',\n",
    "'S2_1_C1_141':'System Affiliation',\n",
    "'S2_1_C2_2':'State',\n",
    "'S2_1_C1_2':'City',\n",
    "'S2_1_C3_2':'Zip',\n",
    "'S2_1_C1_1':'Address',\n",
    "'S2_1_C4_2':'County',\n",
    "'S2_1_C1_21':'Type of Control',\n",
    "'S3_1_C2_7':'Number of Staffed Beds',\n",
    "'S3_1_C15_14':'Total Inpatient Discharges (All Payers)',\n",
    "'S3_1_C8_14':'Total Patient Days (All Payers)',\n",
    "'S3_1_C2_7':'General Med/Surg Beds'}"
   ]
  },
  {
   "cell_type": "code",
   "execution_count": null,
   "id": "4039c893",
   "metadata": {},
   "outputs": [],
   "source": [
    "rv = df[['Provider Number','10 Field Name', 'Field Description',\n",
    "       'Value']].copy()\n",
    "\n",
    "rv = rv[rv['10 Field Name'].isin(list(var_dict.keys()))]\n",
    "\n",
    "rv = rv.pivot(index='Provider Number', columns=['10 Field Name'\n",
    "#                                             ,'Field Description'\n",
    "                                           ], values='Value').reset_index()\n",
    "\n",
    "rv = rv.rename(columns = var_dict)\n",
    "\n",
    "rv.columns.name = None\n",
    "\n",
    "df1 = rv.merge(cv,\n",
    "               how = 'left',\n",
    "               left_on = 'Provider Number',\n",
    "               right_on = 'Provider Number')\n",
    "\n"
   ]
  },
  {
   "cell_type": "code",
   "execution_count": null,
   "id": "c0787d50",
   "metadata": {},
   "outputs": [],
   "source": [
    "df1.sample()"
   ]
  },
  {
   "cell_type": "code",
   "execution_count": null,
   "id": "4c319d32",
   "metadata": {},
   "outputs": [],
   "source": []
  },
  {
   "cell_type": "code",
   "execution_count": null,
   "id": "91566528",
   "metadata": {},
   "outputs": [],
   "source": []
  },
  {
   "cell_type": "code",
   "execution_count": null,
   "id": "46aab269",
   "metadata": {},
   "outputs": [],
   "source": []
  },
  {
   "cell_type": "code",
   "execution_count": null,
   "id": "2a060f05",
   "metadata": {},
   "outputs": [],
   "source": []
  }
 ],
 "metadata": {
  "kernelspec": {
   "display_name": "Python 3 (ipykernel)",
   "language": "python",
   "name": "python3"
  },
  "language_info": {
   "codemirror_mode": {
    "name": "ipython",
    "version": 3
   },
   "file_extension": ".py",
   "mimetype": "text/x-python",
   "name": "python",
   "nbconvert_exporter": "python",
   "pygments_lexer": "ipython3",
   "version": "3.8.12"
  }
 },
 "nbformat": 4,
 "nbformat_minor": 5
}
