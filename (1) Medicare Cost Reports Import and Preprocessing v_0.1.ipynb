{
 "cells": [
  {
   "cell_type": "markdown",
   "id": "2b34a0df",
   "metadata": {},
   "source": [
    "Helpful Links\n",
    " - Download and Extract Files: https://pythonguides.com/download-zip-file-from-url-using-python/\n",
    " - Leveraging previous code: https://n4maticist.com/articles/2020-01-mcr-data-preparation/\n",
    " - Cost Report Field Names: https://gitfreak.com/ohana-project"
   ]
  },
  {
   "cell_type": "markdown",
   "id": "6f98684c",
   "metadata": {},
   "source": [
    "Import Standard Modules and Functions"
   ]
  },
  {
   "cell_type": "code",
   "execution_count": 1,
   "id": "ecf51a5b",
   "metadata": {},
   "outputs": [
    {
     "name": "stdout",
     "output_type": "stream",
     "text": [
      "C:\\Users\\CanonPattillo\\OneDrive - Porter\\Desktop\\Analysis Central\\Sales Support and PlanSystem Intelligence\\Version Two\\Medicare Cost Reports\n"
     ]
    }
   ],
   "source": [
    "import os\n",
    "from pathlib import Path\n",
    "from matplotlib.ticker import PercentFormatter\n",
    "import openpyxl\n",
    "from datetime import date\n",
    "\n",
    "# Download ZIP Files\n",
    "import requests, zipfile\n",
    "from io import BytesIO\n",
    "\n",
    "path = os.getcwd()\n",
    "os.chdir('/Users/CanonPattillo/OneDrive - Porter/Desktop/Stats and DS/Canon Functions')\n",
    "\n",
    "from canon_functions import *\n",
    "import canon_functions as cf\n",
    "\n",
    "os.chdir(path)\n",
    "print(path)\n",
    "\n",
    "pd.set_option('display.max_columns', None)"
   ]
  },
  {
   "cell_type": "markdown",
   "id": "b3c35d71",
   "metadata": {},
   "source": [
    "Download and Extract Medicare Cost Report Raw Data"
   ]
  },
  {
   "cell_type": "code",
   "execution_count": 2,
   "id": "4e88fec9",
   "metadata": {},
   "outputs": [
    {
     "name": "stdout",
     "output_type": "stream",
     "text": [
      "Which Fiscal Year (YYYY) would you like to process? >>>  2020\n"
     ]
    }
   ],
   "source": [
    "FYyear = input(\"Which Fiscal Year (YYYY) would you like to process? >>>  \")"
   ]
  },
  {
   "cell_type": "code",
   "execution_count": 3,
   "id": "0eae7ea2",
   "metadata": {},
   "outputs": [],
   "source": [
    "raw_path = 'C:/Users/CanonPattillo/OneDrive - Porter/Desktop/Analysis Central/Sales Support and PlanSystem Intelligence/Version Two/Medicare Cost Reports/Raw Cost Report Data'"
   ]
  },
  {
   "cell_type": "code",
   "execution_count": null,
   "id": "d3d99ccb",
   "metadata": {},
   "outputs": [],
   "source": [
    "print('Downloading started')\n",
    "\n",
    "#Defining the zip file URL\n",
    "url = f'https://downloads.cms.gov/FILES/HCRIS/HOSP10FY{FYyear}.ZIP'\n",
    "\n",
    "# Split URL to get the file name\n",
    "filename = url.split('/')[-1]\n",
    "\n",
    "# Downloading the file by sending the request to the URL\n",
    "req = requests.get(url)\n",
    "print(f'{filename} Download Completed')\n",
    "\n",
    "# extracting the zip file contents\n",
    "zipfile.ZipFile(BytesIO(req.content))\\\n",
    ".extractall(raw_path)\n",
    "print(f'{filename} Extraction Completed')"
   ]
  },
  {
   "cell_type": "markdown",
   "id": "8463f9d4",
   "metadata": {},
   "source": [
    "Import Medicare Cost Report Raw Data"
   ]
  },
  {
   "cell_type": "code",
   "execution_count": 4,
   "id": "4c8fb431",
   "metadata": {},
   "outputs": [
    {
     "data": {
      "text/plain": [
       "['HOSP10_2020_ALPHA.CSV', 'HOSP10_2020_NMRC.CSV', 'HOSP10_2020_RPT.CSV']"
      ]
     },
     "execution_count": 4,
     "metadata": {},
     "output_type": "execute_result"
    }
   ],
   "source": [
    "os.chdir(raw_path)\n",
    "os.listdir()"
   ]
  },
  {
   "cell_type": "code",
   "execution_count": 5,
   "id": "3265d270",
   "metadata": {},
   "outputs": [],
   "source": [
    "# Define Columns Names\n",
    "colRPT = ['RPT_REC_NUM','PRVDR_CTRL_TYPE_CD','PRVDR_NUM','NPI','RPT_STUS_CD', \\\n",
    "            'FY_BGN_DT','FY_END_DT','PROC_DT','INITL_RPT_SW','LAST_RPT_SW', \\\n",
    "            'TRNSMTL_NUM','FI_NUM','ADR_VNDR_CD','FI_CREAT_DT','UTIL_CD','NPR_DT', \\\n",
    "            'SPEC_IND','FI_RCPT_DT']\n",
    "\n",
    "colNMRC = ['RPT_REC_NUM','WKSHT_CD','LINE_NUM','CLMN_NUM','ITM_VAL']\n",
    "\n",
    "colALPHA = ['RPT_REC_NUM','WKSHT_CD','LINE_NUM','CLMN_NUM','ITM_VAL']"
   ]
  },
  {
   "cell_type": "code",
   "execution_count": 6,
   "id": "b1cbfd89",
   "metadata": {},
   "outputs": [],
   "source": [
    "# Its important to import field as strings to maintain leading zeros."
   ]
  },
  {
   "cell_type": "code",
   "execution_count": 84,
   "id": "eebdd09b",
   "metadata": {},
   "outputs": [],
   "source": [
    "dfALPHA = pd.read_csv(raw_path + f'/HOSP10_{FYyear}_ALPHA.CSV', \\\n",
    "    header=None, names=colALPHA, dtype='str')\n",
    "\n",
    "dfNMRC = pd.read_csv(raw_path + f'/HOSP10_{FYyear}_NMRC.CSV', \\\n",
    "    header=None, names=colNMRC, dtype='str')\n",
    "\n",
    "dfRPT = pd.read_csv(raw_path + f'/HOSP10_{FYyear}_RPT.CSV', \\\n",
    "    header=None, names=colRPT, dtype='str')"
   ]
  },
  {
   "cell_type": "markdown",
   "id": "3ff3295b",
   "metadata": {},
   "source": [
    "Control Totals\n",
    " - Check against control totals provided by CMS in HOSP10_RECORD_COUNTS.csv"
   ]
  },
  {
   "cell_type": "code",
   "execution_count": 85,
   "id": "d15ecaa7",
   "metadata": {},
   "outputs": [
    {
     "data": {
      "text/plain": [
       "3190230"
      ]
     },
     "metadata": {},
     "output_type": "display_data"
    },
    {
     "data": {
      "text/plain": [
       "17047800"
      ]
     },
     "metadata": {},
     "output_type": "display_data"
    },
    {
     "data": {
      "text/plain": [
       "5271"
      ]
     },
     "metadata": {},
     "output_type": "display_data"
    }
   ],
   "source": [
    "display(len(dfALPHA), len(dfNMRC), len(dfRPT))"
   ]
  },
  {
   "cell_type": "markdown",
   "id": "26e31b94",
   "metadata": {},
   "source": [
    "Import Field Headers"
   ]
  },
  {
   "cell_type": "code",
   "execution_count": 86,
   "id": "329d80e3",
   "metadata": {},
   "outputs": [],
   "source": [
    "dfFIELDS = pd.read_csv(raw_path[:-20] + 'Outputs/FIELD_HEADERS.csv',\n",
    "                       dtype='str')"
   ]
  },
  {
   "cell_type": "markdown",
   "id": "ce8ab5a1",
   "metadata": {},
   "source": [
    "Import RPT Headers"
   ]
  },
  {
   "cell_type": "code",
   "execution_count": 87,
   "id": "db208097",
   "metadata": {},
   "outputs": [],
   "source": [
    "rptHEADERS = pd.read_csv(raw_path[:-20] + 'Cost Report Documentation/HCRIS_DataDictionary.csv')"
   ]
  },
  {
   "cell_type": "markdown",
   "id": "e65675d5",
   "metadata": {},
   "source": [
    "Joins"
   ]
  },
  {
   "cell_type": "markdown",
   "id": "813ba14b",
   "metadata": {},
   "source": [
    "Add Readable Field Names"
   ]
  },
  {
   "cell_type": "code",
   "execution_count": 88,
   "id": "9d363a6e",
   "metadata": {},
   "outputs": [],
   "source": [
    "#%% Merge Field Information with Numeric Data\n",
    "dfNMRC = dfNMRC.merge(dfFIELDS, left_on=['WKSHT_CD','LINE_NUM','CLMN_NUM'], \\\n",
    "    right_on=['WKSHT_CD','LINE_NUM','CLMN_NUM'])\n",
    "\n",
    "#%% Merge Field Information with Alpha Data\n",
    "dfALPHA = dfALPHA.merge(dfFIELDS, left_on=['WKSHT_CD','LINE_NUM','CLMN_NUM'], \\\n",
    "    right_on=['WKSHT_CD','LINE_NUM','CLMN_NUM'])"
   ]
  },
  {
   "cell_type": "markdown",
   "id": "32555e9e",
   "metadata": {},
   "source": [
    "Join Alpha and Nmrc to Rpt"
   ]
  },
  {
   "cell_type": "code",
   "execution_count": 89,
   "id": "e5c5c820",
   "metadata": {},
   "outputs": [],
   "source": [
    "dfNMRC = dfNMRC.merge(dfRPT, left_on='RPT_REC_NUM', right_on='RPT_REC_NUM')\n",
    "dfALPHA = dfALPHA.merge(dfRPT, left_on='RPT_REC_NUM', right_on='RPT_REC_NUM')"
   ]
  },
  {
   "cell_type": "markdown",
   "id": "a813c3a6",
   "metadata": {},
   "source": [
    "Create the Full MCR"
   ]
  },
  {
   "cell_type": "code",
   "execution_count": 90,
   "id": "cb4ebaea",
   "metadata": {},
   "outputs": [],
   "source": [
    "dfFULL = pd.concat([dfALPHA,dfNMRC]).reset_index(drop=True)"
   ]
  },
  {
   "cell_type": "markdown",
   "id": "1daebdd2",
   "metadata": {},
   "source": [
    "Create the Final MCR"
   ]
  },
  {
   "cell_type": "code",
   "execution_count": 91,
   "id": "618d0b15",
   "metadata": {},
   "outputs": [],
   "source": [
    "dfFINAL = dfFULL.rename(columns = {'ITM_VAL':'ITM_VAL_NUM'})"
   ]
  },
  {
   "cell_type": "code",
   "execution_count": 92,
   "id": "e606edd6",
   "metadata": {},
   "outputs": [],
   "source": [
    "plainHEADERS = dict(zip(rptHEADERS['Column Code'],rptHEADERS['Title']))"
   ]
  },
  {
   "cell_type": "code",
   "execution_count": 93,
   "id": "eb698079",
   "metadata": {},
   "outputs": [],
   "source": [
    "dfFINAL = dfFINAL.rename(columns = plainHEADERS)"
   ]
  },
  {
   "cell_type": "markdown",
   "id": "ed057a5b",
   "metadata": {},
   "source": [
    "Facilities with > 1x MCR for the FY"
   ]
  },
  {
   "cell_type": "code",
   "execution_count": 94,
   "id": "70718f15",
   "metadata": {
    "scrolled": false
   },
   "outputs": [],
   "source": [
    "# ***** The below two lines demostrate an example where a hospital reported >1x for a FY. We are making the \n",
    "# assumption that we should keep the most recent cost report. \n",
    "\n",
    "# dfFINAL[(dfFINAL['Provider Number'] == '454148') & (dfFINAL['10 FIELD NAME'] == 'S2_1_C1_1')]\n",
    "# dfFINAL[dfFINAL['Provider Number'] == '454148']['Report Record Number'].nunique() # 2\n",
    "\n",
    "# for rrn in dfFINAL[dfFINAL['Provider Number'] == '454148']['Report Record Number'].unique().tolist():\n",
    "#     print(f\"{rrn} unique processing date(s):\")\n",
    "#     print(dfFINAL[(dfFINAL['Provider Number'] == '454148') & (dfFINAL['Report Record Number'] == rrn)]['Process Date'].unique())\n",
    "\n",
    "# ***** These are the specific facilities with > 1 MCR for the FY\n",
    "\n",
    "# moreThanOneReport = dfFINAL.groupby(['Provider Number'], as_index=False)['Report Record Number'].nunique()\\\n",
    "# .sort_values('Report Record Number', ascending = False)\n",
    "\n",
    "# moreThanOneReport = moreThanOneReport[moreThanOneReport['Report Record Number'] >1]\n",
    "\n",
    "# greThanOne = moreThanOneReport['Provider Number'].unique().tolist()"
   ]
  },
  {
   "cell_type": "markdown",
   "id": "5db4ed2e",
   "metadata": {},
   "source": [
    "Export"
   ]
  },
  {
   "cell_type": "code",
   "execution_count": 95,
   "id": "f8243e17",
   "metadata": {},
   "outputs": [],
   "source": [
    "dfFINAL.to_csv(raw_path[:-20] + 'Outputs/' + f'Unprocessed_{FYyear}_Medicare_Cost_Report.csv', index = False)"
   ]
  }
 ],
 "metadata": {
  "kernelspec": {
   "display_name": "Python 3 (ipykernel)",
   "language": "python",
   "name": "python3"
  },
  "language_info": {
   "codemirror_mode": {
    "name": "ipython",
    "version": 3
   },
   "file_extension": ".py",
   "mimetype": "text/x-python",
   "name": "python",
   "nbconvert_exporter": "python",
   "pygments_lexer": "ipython3",
   "version": "3.8.12"
  }
 },
 "nbformat": 4,
 "nbformat_minor": 5
}
